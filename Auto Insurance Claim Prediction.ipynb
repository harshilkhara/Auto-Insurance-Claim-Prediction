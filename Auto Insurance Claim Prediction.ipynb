{
 "cells": [
  {
   "cell_type": "code",
   "execution_count": 1,
   "metadata": {},
   "outputs": [],
   "source": [
    "    import warnings\n",
    "    warnings.simplefilter(\"ignore\")\n",
    "    "
   ]
  },
  {
   "cell_type": "code",
   "execution_count": 2,
   "metadata": {},
   "outputs": [],
   "source": [
    "import pandas as pd\n",
    "import numpy as np\n",
    "import matplotlib.pyplot as plt\n",
    "\n",
    "from sklearn.base import BaseEstimator, MultiOutputMixin\n",
    "from collections import Counter\n",
    "from imblearn.under_sampling import TomekLinks\n",
    "from imblearn.over_sampling import SMOTE\n",
    "from sklearn.preprocessing import StandardScaler, RobustScaler, MinMaxScaler\n",
    "\n",
    "from sklearn.model_selection import train_test_split\n",
    "from sklearn.model_selection import cross_val_score\n",
    "from sklearn.model_selection import GridSearchCV\n",
    "from sklearn.model_selection import cross_val_predict\n",
    "\n",
    "from sklearn.linear_model import LogisticRegression,SGDClassifier\n",
    "from sklearn.ensemble import RandomForestClassifier\n",
    "from sklearn.linear_model import Perceptron\n",
    "from sklearn.linear_model import SGDClassifier\n",
    "from sklearn.tree import DecisionTreeClassifier\n",
    "from sklearn.neighbors import KNeighborsClassifier\n",
    "from sklearn.svm import SVC, LinearSVC\n",
    "from sklearn.naive_bayes import GaussianNB\n",
    "from xgboost import XGBClassifier\n",
    "from sklearn.decomposition import PCA\n",
    "from sklearn.cluster import KMeans\n",
    "#import keras\n",
    "\n",
    "from sklearn.metrics import confusion_matrix, precision_recall_curve\n",
    "from sklearn.metrics import roc_curve\n",
    "from sklearn.metrics import roc_auc_score\n",
    "from sklearn.metrics import accuracy_score\n",
    "from sklearn.metrics import classification_report"
   ]
  },
  {
   "cell_type": "code",
   "execution_count": 3,
   "metadata": {},
   "outputs": [],
   "source": [
    "df = pd.read_excel('auto_insurance_claim.xlsx',index_col='ID')"
   ]
  },
  {
   "cell_type": "code",
   "execution_count": 4,
   "metadata": {},
   "outputs": [
    {
     "data": {
      "text/html": [
       "<div>\n",
       "<style scoped>\n",
       "    .dataframe tbody tr th:only-of-type {\n",
       "        vertical-align: middle;\n",
       "    }\n",
       "\n",
       "    .dataframe tbody tr th {\n",
       "        vertical-align: top;\n",
       "    }\n",
       "\n",
       "    .dataframe thead th {\n",
       "        text-align: right;\n",
       "    }\n",
       "</style>\n",
       "<table border=\"1\" class=\"dataframe\">\n",
       "  <thead>\n",
       "    <tr style=\"text-align: right;\">\n",
       "      <th></th>\n",
       "      <th>target</th>\n",
       "      <th>Gender</th>\n",
       "      <th>EngineHP</th>\n",
       "      <th>credit_history</th>\n",
       "      <th>Years_Experience</th>\n",
       "      <th>annual_claims</th>\n",
       "      <th>Marital_Status</th>\n",
       "      <th>Vehical_type</th>\n",
       "      <th>Miles_driven_annually</th>\n",
       "      <th>size_of_family</th>\n",
       "      <th>Age_bucket</th>\n",
       "      <th>EngineHP_bucket</th>\n",
       "      <th>Years_Experience_bucket</th>\n",
       "      <th>Miles_driven_annually_bucket</th>\n",
       "      <th>credit_history_bucket</th>\n",
       "      <th>State</th>\n",
       "    </tr>\n",
       "    <tr>\n",
       "      <th>ID</th>\n",
       "      <th></th>\n",
       "      <th></th>\n",
       "      <th></th>\n",
       "      <th></th>\n",
       "      <th></th>\n",
       "      <th></th>\n",
       "      <th></th>\n",
       "      <th></th>\n",
       "      <th></th>\n",
       "      <th></th>\n",
       "      <th></th>\n",
       "      <th></th>\n",
       "      <th></th>\n",
       "      <th></th>\n",
       "      <th></th>\n",
       "      <th></th>\n",
       "    </tr>\n",
       "  </thead>\n",
       "  <tbody>\n",
       "    <tr>\n",
       "      <th>1</th>\n",
       "      <td>1</td>\n",
       "      <td>F</td>\n",
       "      <td>522</td>\n",
       "      <td>656</td>\n",
       "      <td>1</td>\n",
       "      <td>0</td>\n",
       "      <td>Married</td>\n",
       "      <td>Car</td>\n",
       "      <td>14749.0</td>\n",
       "      <td>5</td>\n",
       "      <td>&lt;18</td>\n",
       "      <td>&gt;350</td>\n",
       "      <td>&lt;3</td>\n",
       "      <td>&lt;15k</td>\n",
       "      <td>Fair</td>\n",
       "      <td>IL</td>\n",
       "    </tr>\n",
       "    <tr>\n",
       "      <th>2</th>\n",
       "      <td>1</td>\n",
       "      <td>F</td>\n",
       "      <td>691</td>\n",
       "      <td>704</td>\n",
       "      <td>16</td>\n",
       "      <td>0</td>\n",
       "      <td>Married</td>\n",
       "      <td>Car</td>\n",
       "      <td>15389.0</td>\n",
       "      <td>6</td>\n",
       "      <td>28-34</td>\n",
       "      <td>&gt;350</td>\n",
       "      <td>15-30</td>\n",
       "      <td>15k-25k</td>\n",
       "      <td>Good</td>\n",
       "      <td>NJ</td>\n",
       "    </tr>\n",
       "    <tr>\n",
       "      <th>3</th>\n",
       "      <td>1</td>\n",
       "      <td>M</td>\n",
       "      <td>133</td>\n",
       "      <td>691</td>\n",
       "      <td>15</td>\n",
       "      <td>0</td>\n",
       "      <td>Married</td>\n",
       "      <td>Van</td>\n",
       "      <td>9956.0</td>\n",
       "      <td>3</td>\n",
       "      <td>&gt;40</td>\n",
       "      <td>90-160</td>\n",
       "      <td>15-30</td>\n",
       "      <td>&lt;15k</td>\n",
       "      <td>Good</td>\n",
       "      <td>CT</td>\n",
       "    </tr>\n",
       "    <tr>\n",
       "      <th>4</th>\n",
       "      <td>1</td>\n",
       "      <td>M</td>\n",
       "      <td>146</td>\n",
       "      <td>720</td>\n",
       "      <td>9</td>\n",
       "      <td>0</td>\n",
       "      <td>Married</td>\n",
       "      <td>Van</td>\n",
       "      <td>77323.0</td>\n",
       "      <td>3</td>\n",
       "      <td>18-27</td>\n",
       "      <td>90-160</td>\n",
       "      <td>9-14'</td>\n",
       "      <td>&gt;25k</td>\n",
       "      <td>Good</td>\n",
       "      <td>CT</td>\n",
       "    </tr>\n",
       "    <tr>\n",
       "      <th>5</th>\n",
       "      <td>1</td>\n",
       "      <td>M</td>\n",
       "      <td>128</td>\n",
       "      <td>771</td>\n",
       "      <td>33</td>\n",
       "      <td>1</td>\n",
       "      <td>Married</td>\n",
       "      <td>Van</td>\n",
       "      <td>14183.0</td>\n",
       "      <td>4</td>\n",
       "      <td>&gt;40</td>\n",
       "      <td>90-160</td>\n",
       "      <td>&gt;30</td>\n",
       "      <td>&lt;15k</td>\n",
       "      <td>Very Good</td>\n",
       "      <td>WY</td>\n",
       "    </tr>\n",
       "  </tbody>\n",
       "</table>\n",
       "</div>"
      ],
      "text/plain": [
       "    target Gender  EngineHP  credit_history  Years_Experience  annual_claims  \\\n",
       "ID                                                                             \n",
       "1        1      F       522             656                 1              0   \n",
       "2        1      F       691             704                16              0   \n",
       "3        1      M       133             691                15              0   \n",
       "4        1      M       146             720                 9              0   \n",
       "5        1      M       128             771                33              1   \n",
       "\n",
       "   Marital_Status Vehical_type  Miles_driven_annually  size_of_family  \\\n",
       "ID                                                                      \n",
       "1         Married          Car                14749.0               5   \n",
       "2         Married          Car                15389.0               6   \n",
       "3         Married          Van                 9956.0               3   \n",
       "4         Married          Van                77323.0               3   \n",
       "5         Married          Van                14183.0               4   \n",
       "\n",
       "   Age_bucket EngineHP_bucket Years_Experience_bucket  \\\n",
       "ID                                                      \n",
       "1         <18            >350                      <3   \n",
       "2       28-34            >350                   15-30   \n",
       "3         >40          90-160                   15-30   \n",
       "4       18-27          90-160                   9-14'   \n",
       "5         >40          90-160                     >30   \n",
       "\n",
       "   Miles_driven_annually_bucket credit_history_bucket State  \n",
       "ID                                                           \n",
       "1                          <15k                  Fair    IL  \n",
       "2                       15k-25k                  Good    NJ  \n",
       "3                          <15k                  Good    CT  \n",
       "4                          >25k                  Good    CT  \n",
       "5                          <15k             Very Good    WY  "
      ]
     },
     "execution_count": 4,
     "metadata": {},
     "output_type": "execute_result"
    }
   ],
   "source": [
    "df.head()"
   ]
  },
  {
   "cell_type": "code",
   "execution_count": 5,
   "metadata": {},
   "outputs": [
    {
     "data": {
      "text/plain": [
       "<matplotlib.legend.Legend at 0x7fd7798e8dc0>"
      ]
     },
     "execution_count": 5,
     "metadata": {},
     "output_type": "execute_result"
    },
    {
     "data": {
      "image/png": "[encoded data removed]",
      "text/plain": [
       "<Figure size 720x576 with 1 Axes>"
      ]
     },
     "metadata": {
      "needs_background": "light"
     },
     "output_type": "display_data"
    }
   ],
   "source": [
    "idx_1 = np.where(df['target'] == 0)\n",
    "idx_2 = np.where(df['target'] == 1)\n",
    "d_np = df.iloc[idx_1]['size_of_family']\n",
    "d_p = df.iloc[idx_2]['size_of_family']\n",
    "plt.figure(figsize=[10,8])\n",
    "n, bins, patches = plt.hist([d_np, d_p],label=\"claim vs size of family\")\n",
    "plt.legend()"
   ]
  },
  {
   "cell_type": "code",
   "execution_count": 6,
   "metadata": {},
   "outputs": [
    {
     "data": {
      "text/plain": [
       "<matplotlib.legend.Legend at 0x7fd779da50a0>"
      ]
     },
     "execution_count": 6,
     "metadata": {},
     "output_type": "execute_result"
    },
    {
     "data": {
      "image/png": "[encoded data removed]",
      "text/plain": [
       "<Figure size 720x576 with 1 Axes>"
      ]
     },
     "metadata": {
      "needs_background": "light"
     },
     "output_type": "display_data"
    }
   ],
   "source": [
    "idx_1 = np.where(df['target'] == 0)\n",
    "idx_2 = np.where(df['target'] == 1)\n",
    "d_np = df.iloc[idx_1]['annual_claims']\n",
    "d_p = df.iloc[idx_2]['annual_claims']\n",
    "plt.figure(figsize=[10,8])\n",
    "n, bins, patches = plt.hist([d_np, d_p],label=\"claim vs size of family\")\n",
    "plt.legend()"
   ]
  },
  {
   "cell_type": "code",
   "execution_count": 7,
   "metadata": {},
   "outputs": [
    {
     "data": {
      "text/plain": [
       "1    10569\n",
       "0    10334\n",
       "2     4562\n",
       "3     4366\n",
       "4      409\n",
       "Name: annual_claims, dtype: int64"
      ]
     },
     "execution_count": 7,
     "metadata": {},
     "output_type": "execute_result"
    }
   ],
   "source": [
    "df['annual_claims'].value_counts()"
   ]
  },
  {
   "cell_type": "code",
   "execution_count": 8,
   "metadata": {},
   "outputs": [
    {
     "data": {
      "text/plain": [
       "<matplotlib.legend.Legend at 0x7fd779f6c910>"
      ]
     },
     "execution_count": 8,
     "metadata": {},
     "output_type": "execute_result"
    },
    {
     "data": {
      "image/png": "[encoded data removed]",
      "text/plain": [
       "<Figure size 720x576 with 1 Axes>"
      ]
     },
     "metadata": {
      "needs_background": "light"
     },
     "output_type": "display_data"
    }
   ],
   "source": [
    "idx_1 = np.where(df['target'] == 0)\n",
    "idx_2 = np.where(df['target'] == 1)\n",
    "d_np = df.iloc[idx_1]['Age_bucket']\n",
    "d_p = df.iloc[idx_2]['Age_bucket']\n",
    "plt.figure(figsize=[10,8])\n",
    "n, bins, patches = plt.hist([d_np, d_p],label=\"claim vs age\")\n",
    "plt.legend()"
   ]
  },
  {
   "cell_type": "code",
   "execution_count": 9,
   "metadata": {},
   "outputs": [],
   "source": [
    "df = df[df['Miles_driven_annually'].notna()]\n",
    "\n",
    "df['Gender'] = df['Gender'].replace(['F','M'],[0,1])\n",
    "df['Marital_Status'] = df['Marital_Status'].replace(['Single','Married'],[0,1])\n",
    "\n",
    "a = pd.get_dummies(df['Vehical_type']).astype(np.int64)\n",
    "#a.astype(np.float64)\n",
    "df = pd.concat((df,a),axis=1)\n",
    "\n",
    "\n",
    "df['credit_per_person'] = round(df['credit_history']/df['size_of_family'],-1)\n",
    "\n",
    "age_bucket_mapping = {'<18':1, '28-34':3, '>40':5, '18-27':2, '35-40':4}\n",
    "df['Age_bucket'] = df['Age_bucket'].map(age_bucket_mapping) \n",
    "df['Age_bucket'] = df['Age_bucket'].replace([2],3)\n",
    "df['Age_bucket'] = df['Age_bucket'].replace([4,5],5)\n",
    "df['Age_bucket'] = StandardScaler().fit_transform(np.array(df['Age_bucket']).reshape(-1,1))\n",
    "\n",
    "df = df.drop(columns=['State','Vehical_type'])\n",
    "\n",
    "df['annual_claims'] = df['annual_claims'].replace([2,3],5)\n",
    "df['annual_claims'] = df['annual_claims'].replace([4],50)\n",
    "df['annual_claims'] = MinMaxScaler().fit_transform(np.array(df['annual_claims']).reshape(-1,1))"
   ]
  },
  {
   "cell_type": "code",
   "execution_count": 10,
   "metadata": {},
   "outputs": [],
   "source": [
    "df_RS = df.copy()\n",
    "df_SS = df.copy()"
   ]
  },
  {
   "cell_type": "raw",
   "metadata": {},
   "source": [
    "df['size_of_family'] = df['size_of_family'].replace([1,2],0)\n",
    "df['size_of_family'] = df['size_of_family'].replace([3,4,5],1)\n",
    "df['size_of_family'] = df['size_of_family'].replace([6,7,8],2)\n",
    "df['size_of_familyMMS'] = MinMaxScaler().fit_transform(np.array(df['size_of_family']).reshape(-1,1))\n",
    "df['size_of_family_SS'] = StandardScaler().fit_transform(np.array(df['size_of_family']).reshape(-1,1))\n",
    "df['size_of_family_RS'] = RobustScaler(quantile_range=(15,85)).fit_transform(np.array(df['size_of_family']).reshape(-1,1))"
   ]
  },
  {
   "cell_type": "code",
   "execution_count": 11,
   "metadata": {},
   "outputs": [],
   "source": [
    "df_SS['EngineHP_SS'] = StandardScaler().fit_transform(np.array(df['EngineHP']).reshape(-1,1))\n",
    "df_RS['EngineHP_RS'] = RobustScaler(quantile_range=(15,85)).fit_transform(np.array(df['EngineHP']).reshape(-1,1))\n",
    "\n",
    "df_SS['size_of_family_SS'] = StandardScaler().fit_transform(np.array(df['size_of_family']).reshape(-1,1))\n",
    "df_RS['size_of_family_RS'] = RobustScaler(quantile_range=(15,85)).fit_transform(np.array(df['size_of_family']).reshape(-1,1))\n",
    "\n",
    "df_SS['credit_history_SS'] = StandardScaler().fit_transform(np.array(df['credit_history']).reshape(-1,1))\n",
    "df_RS['credit_history_RS'] = RobustScaler(quantile_range=(15,85)).fit_transform(np.array(df['credit_history']).reshape(-1,1))\n",
    "\n",
    "df_SS['Years_Experience_SS'] = StandardScaler().fit_transform(np.array(df['Years_Experience']).reshape(-1,1))\n",
    "df_RS['Years_Experience_RS'] = RobustScaler(quantile_range=(15,85)).fit_transform(np.array(df['Years_Experience']).reshape(-1,1))\n",
    "\n",
    "df_SS['Miles_driven_annually_SS'] = StandardScaler().fit_transform(np.array(df['Miles_driven_annually']).reshape(-1,1))\n",
    "df_RS['Miles_driven_annually_RS'] = RobustScaler(quantile_range=(15,85)).fit_transform(np.array(df['Miles_driven_annually']).reshape(-1,1))\n",
    "\n",
    "df_SS['credit_per_person_SS'] = StandardScaler().fit_transform(np.array(df['credit_per_person']).reshape(-1,1))\n",
    "df_RS['credit_per_person_RS'] = RobustScaler(quantile_range=(15,85)).fit_transform(np.array(df['credit_per_person']).reshape(-1,1))\n",
    "\n",
    "#####################################buckets########################\n",
    "df_RSb = df_RS.copy()\n",
    "df_SSb = df_SS.copy()"
   ]
  },
  {
   "cell_type": "code",
   "execution_count": 12,
   "metadata": {},
   "outputs": [],
   "source": [
    "engine_bucket_mapping = {'>350':4, '90-160':2, '<90':1, '161-350':3}\n",
    "df['EngineHP_bucket'] = df['EngineHP_bucket'].map(engine_bucket_mapping)\n",
    "\n",
    "years_exp_bucket_mapping = {\"<3\":1, \"3-8'\":2, \"9-14'\":3, \"15-30\":4, \">30\":5}\n",
    "df[\"Years_Experience_bucket\"] = df['Years_Experience_bucket'].map(years_exp_bucket_mapping)\n",
    "\n",
    "miles_bucket_mapping = {'<15k':1, '15k-25k':2, '>25k':3}\n",
    "df['Miles_driven_annually_bucket'] = df['Miles_driven_annually_bucket'].map(miles_bucket_mapping)\n",
    "\n",
    "credit_bucket_mapping = {'Fair':2, 'Good':3, 'Very Good':4, 'Exceptional':5, 'Very Poor':1}\n",
    "df['credit_history_bucket'] = df['credit_history_bucket'].map(credit_bucket_mapping)"
   ]
  },
  {
   "cell_type": "code",
   "execution_count": 13,
   "metadata": {},
   "outputs": [],
   "source": [
    "\n",
    "df_SSb['EngineHP_SS_b'] = StandardScaler().fit_transform(np.array(df['EngineHP_bucket']).reshape(-1,1))\n",
    "df_RSb['EngineHP_RS_b'] = RobustScaler(quantile_range=(15,85)).fit_transform(np.array(df['EngineHP_bucket']).reshape(-1,1))\n",
    "\n",
    "df_SSb['Years_Experience_SS_b'] = StandardScaler().fit_transform(np.array(df['Years_Experience_bucket']).reshape(-1,1))\n",
    "df_RSb['Years_Experience_RS_b'] = RobustScaler(quantile_range=(15,85)).fit_transform(np.array(df['Years_Experience_bucket']).reshape(-1,1))\n",
    "\n",
    "df_SSb['Miles_driven_annually_SS_b'] = StandardScaler().fit_transform(np.array(df['Miles_driven_annually_bucket']).reshape(-1,1))\n",
    "df_RSb['Miles_driven_annually_RS_b'] = RobustScaler(quantile_range=(15,85)).fit_transform(np.array(df['Miles_driven_annually_bucket']).reshape(-1,1))\n",
    "\n",
    "df_SSb['credit_history_SS_b'] = StandardScaler().fit_transform(np.array(df['credit_history_bucket']).reshape(-1,1))\n",
    "df_RSb['credit_history_RS_b'] = RobustScaler(quantile_range=(15,85)).fit_transform(np.array(df['credit_history_bucket']).reshape(-1,1))"
   ]
  },
  {
   "cell_type": "code",
   "execution_count": 14,
   "metadata": {},
   "outputs": [
    {
     "name": "stdout",
     "output_type": "stream",
     "text": [
      "Value counts range for EngineHP _SS -0.8810820727655874 6.108238044315591\n",
      "Value counts range for size_of_family _SS -1.540387488894285 1.5213478539230734\n",
      "Value counts range for credit_history _SS -3.7649536391444696 1.6030639435329122\n",
      "Value counts range for Years_Experience _SS -1.2391062999475266 2.704461848288033\n",
      "Value counts range for Miles_driven_annually _SS -0.7105524312124264 4.719883942060373\n",
      "Value counts range for credit_per_person _SS -0.9934095585256588 3.216841136171517\n"
     ]
    }
   ],
   "source": [
    "for i in ['EngineHP','size_of_family','credit_history','Years_Experience','Miles_driven_annually','credit_per_person']:\n",
    "    print(\"Value counts range for\",i,\"_SS\",df_SS[i+'_SS'].min(),df_SS[i+'_SS'].max())"
   ]
  },
  {
   "cell_type": "code",
   "execution_count": 15,
   "metadata": {},
   "outputs": [
    {
     "name": "stdout",
     "output_type": "stream",
     "text": [
      "Value counts range for EngineHP _SS -1.6905464457206396 1.8898243846800504\n",
      "Value counts range for credit_history _SS -1.9832234406654954 2.01756468566359\n",
      "Value counts range for Years_Experience _SS -1.6464571104141252 1.758580521452879\n",
      "Value counts range for Miles_driven_annually _SS -0.8058968551453345 1.4023759378170286\n",
      "Value counts range for credit_history _SS -1.9832234406654954 2.01756468566359\n"
     ]
    }
   ],
   "source": [
    "for i in ['EngineHP','credit_history','Years_Experience','Miles_driven_annually','credit_history']:\n",
    "    print(\"Value counts range for\",i,\"_SS\",df_SSb[i+'_SS_b'].min(),df_SSb[i+'_SS_b'].max())"
   ]
  },
  {
   "cell_type": "code",
   "execution_count": 16,
   "metadata": {},
   "outputs": [
    {
     "name": "stdout",
     "output_type": "stream",
     "text": [
      "Value counts range for EngineHP _RS -0.2364341085271318 3.3488372093023258\n",
      "Value counts range for size_of_family _RS -0.8 0.6\n",
      "Value counts range for credit_history _RS -2.354651162790698 0.8430232558139535\n",
      "Value counts range for Years_Experience _RS -0.45 1.5\n",
      "Value counts range for Miles_driven_annually _RS -0.5326816276057864 6.41435020890193\n",
      "Value counts range for credit_per_person _RS -0.3793103448275862 2.413793103448276\n"
     ]
    }
   ],
   "source": [
    "for i in ['EngineHP','size_of_family','credit_history','Years_Experience','Miles_driven_annually','credit_per_person']:\n",
    "    print(\"Value counts range for\",i,\"_RS\",df_RS[i+'_RS'].min(),df_RS[i+'_RS'].max())"
   ]
  },
  {
   "cell_type": "code",
   "execution_count": 17,
   "metadata": {},
   "outputs": [
    {
     "name": "stdout",
     "output_type": "stream",
     "text": [
      "Value counts range for EngineHP _SS -0.5 1.0\n",
      "Value counts range for credit_history _SS -1.0 1.0\n",
      "Value counts range for Years_Experience _SS -1.0 1.0\n",
      "Value counts range for Miles_driven_annually _SS 0.0 1.0\n",
      "Value counts range for credit_history _SS -1.0 1.0\n"
     ]
    }
   ],
   "source": [
    "for i in ['EngineHP','credit_history','Years_Experience','Miles_driven_annually','credit_history']:\n",
    "    print(\"Value counts range for\",i,\"_SS\",df_RSb[i+'_RS_b'].min(),df_RSb[i+'_RS_b'].max())"
   ]
  },
  {
   "cell_type": "code",
   "execution_count": 18,
   "metadata": {},
   "outputs": [],
   "source": [
    "drop1 = ['EngineHP','credit_history','Years_Experience','Miles_driven_annually','credit_per_person','EngineHP_bucket','credit_history_bucket','Years_Experience_bucket','Miles_driven_annually_bucket']\n",
    "df_RS = df_RS.drop(columns=drop1)\n",
    "df_SS = df_SS.drop(columns=drop1)\n",
    "df_RSb = df_RSb.drop(columns=drop1)\n",
    "df_SSb = df_SSb.drop(columns=drop1)"
   ]
  },
  {
   "cell_type": "code",
   "execution_count": 19,
   "metadata": {},
   "outputs": [],
   "source": []
  },
  {
   "cell_type": "code",
   "execution_count": 20,
   "metadata": {},
   "outputs": [],
   "source": [
    "features_df = df.drop(columns=['target']) \n",
    "target_df = df['target']\n",
    "\n",
    "features_df_RS = df_RS.drop(columns=['target']) \n",
    "target_df_RS = df_RS['target']\n",
    "\n",
    "features_df_SS = df_SS.drop(columns=['target']) \n",
    "target_df_SS = df_SS['target']\n",
    "\n",
    "features_df_RSb = df_RSb.drop(columns=['target']) \n",
    "target_df_RSb = df_RSb['target']\n",
    "\n",
    "features_df_SSb = df_SSb.drop(columns=['target']) \n",
    "target_df_SSb = df_SSb['target']"
   ]
  },
  {
   "cell_type": "code",
   "execution_count": 21,
   "metadata": {},
   "outputs": [],
   "source": [
    "kmeans = KMeans(n_clusters = 5)\n",
    "kmeans.fit(features_df_RS)\n",
    "cluster = kmeans.predict(features_df_RS)\n",
    "cluster_distance = kmeans.transform(features_df_RS)\n",
    "#features_df_RS['cluster'] = cluster\n",
    "features_df_RS['a'] = cluster_distance[:,0]\n",
    "features_df_RS['b'] = cluster_distance[:,1]\n",
    "features_df_RS['c'] = cluster_distance[:,2]\n",
    "features_df_RS['d'] = cluster_distance[:,3]\n",
    "features_df_RS['e'] = cluster_distance[:,4]"
   ]
  },
  {
   "cell_type": "code",
   "execution_count": 22,
   "metadata": {},
   "outputs": [],
   "source": [
    "Xtrain_df, Xtest_df, Ytrain_df, Ytest_df = train_test_split(features_df, target_df, test_size = 0.20, random_state =42)\n",
    "\n",
    "Xtrain_df_RS, Xtest_df_RS, Ytrain_df_RS, Ytest_df_RS = train_test_split(features_df_RS, target_df_RS, test_size = 0.20, random_state =42)\n",
    "\n",
    "Xtrain_df_SS, Xtest_df_SS, Ytrain_df_SS, Ytest_df_SS = train_test_split(features_df_SS, target_df_SS, test_size = 0.20, random_state =42)\n",
    "\n",
    "Xtrain_df_RSb, Xtest_df_RSb, Ytrain_df_RSb, Ytest_df_RSb = train_test_split(features_df_RSb, target_df_RSb, test_size = 0.20, random_state =42)\n",
    "\n",
    "Xtrain_df_SSb, Xtest_df_SSb, Ytrain_df_SSb, Ytest_df_SSb = train_test_split(features_df_SSb, target_df_SSb, test_size = 0.20, random_state =42)"
   ]
  },
  {
   "cell_type": "code",
   "execution_count": 23,
   "metadata": {},
   "outputs": [
    {
     "name": "stdout",
     "output_type": "stream",
     "text": [
      "The baseline guess is  1.0\n",
      "The baseline performance on the train set: accuracy = 70.6388\n"
     ]
    }
   ],
   "source": [
    "def mae(y_true, y_pred):\n",
    "    return 100 - 100*np.mean(abs(y_true - y_pred))\n",
    "\n",
    "baseline_guess = (np.median(Ytrain_df))\n",
    "\n",
    "print(\"The baseline guess is \",baseline_guess)\n",
    "print(\"The baseline performance on the train set: accuracy = %0.4f\" % (mae(Ytrain_df,baseline_guess)))"
   ]
  },
  {
   "cell_type": "code",
   "execution_count": 24,
   "metadata": {},
   "outputs": [
    {
     "name": "stdout",
     "output_type": "stream",
     "text": [
      "The baseline guess is  1.0\n",
      "The baseline performance on the test set: accuracy = 71.2089\n"
     ]
    }
   ],
   "source": [
    "def mae(y_true, y_pred):\n",
    "    return 100 - 100*np.mean(abs(y_true - y_pred))\n",
    "\n",
    "baseline_guess = (np.median(Ytest_df))\n",
    "\n",
    "print(\"The baseline guess is \",baseline_guess)\n",
    "print(\"The baseline performance on the test set: accuracy = %0.4f\" % (mae(Ytest_df,baseline_guess)))"
   ]
  },
  {
   "cell_type": "code",
   "execution_count": 25,
   "metadata": {},
   "outputs": [
    {
     "name": "stdout",
     "output_type": "stream",
     "text": [
      "\n",
      "\n",
      "\n",
      "Training starts\n",
      "---------------------Random Forest trained---------------------\n",
      "---------------------Logistic Regression trained---------------------\n",
      "---------------------KNN trained---------------------\n",
      "---------------------Naive Bayes trained---------------------\n",
      "---------------------Support Vector Classifier trained---------------------\n",
      "---------------------Decision Tree trained---------------------\n",
      "               Model\n",
      "Score               \n",
      "72.78            KNN\n",
      "71.37  Decision Tree\n",
      "70.92  Random Forest\n",
      "70.64            SVM\n",
      "70.64        Log Reg\n",
      "70.64    Naive Bayes\n",
      "\n",
      "\n",
      "\n",
      "Training starts\n",
      "---------------------Random Forest trained---------------------\n",
      "---------------------Logistic Regression trained---------------------\n",
      "---------------------KNN trained---------------------\n",
      "---------------------Naive Bayes trained---------------------\n",
      "---------------------Support Vector Classifier trained---------------------\n",
      "---------------------Decision Tree trained---------------------\n",
      "               Model\n",
      "Score               \n",
      "73.39            KNN\n",
      "71.45  Decision Tree\n",
      "70.91  Random Forest\n",
      "70.64            SVM\n",
      "70.64        Log Reg\n",
      "70.29    Naive Bayes\n",
      "\n",
      "\n",
      "\n",
      "Training starts\n",
      "---------------------Random Forest trained---------------------\n",
      "---------------------Logistic Regression trained---------------------\n",
      "---------------------KNN trained---------------------\n",
      "---------------------Naive Bayes trained---------------------\n",
      "---------------------Support Vector Classifier trained---------------------\n",
      "---------------------Decision Tree trained---------------------\n",
      "               Model\n",
      "Score               \n",
      "73.08            KNN\n",
      "71.37  Decision Tree\n",
      "70.92  Random Forest\n",
      "70.64        Log Reg\n",
      "70.63    Naive Bayes\n",
      "69.37            SVM\n",
      "\n",
      "\n",
      "\n",
      "Training starts\n",
      "---------------------Random Forest trained---------------------\n",
      "---------------------Logistic Regression trained---------------------\n",
      "---------------------KNN trained---------------------\n",
      "---------------------Naive Bayes trained---------------------\n",
      "---------------------Support Vector Classifier trained---------------------\n",
      "---------------------Decision Tree trained---------------------\n",
      "               Model\n",
      "Score               \n",
      "73.16            KNN\n",
      "71.37  Decision Tree\n",
      "70.94  Random Forest\n",
      "70.64        Log Reg\n",
      "70.62    Naive Bayes\n",
      "69.41            SVM\n",
      "\n",
      "\n",
      "\n",
      "Training starts\n",
      "---------------------Random Forest trained---------------------\n",
      "---------------------Logistic Regression trained---------------------\n",
      "---------------------KNN trained---------------------\n",
      "---------------------Naive Bayes trained---------------------\n",
      "---------------------Support Vector Classifier trained---------------------\n",
      "---------------------Decision Tree trained---------------------\n",
      "               Model\n",
      "Score               \n",
      "73.12            KNN\n",
      "71.37  Decision Tree\n",
      "70.94  Random Forest\n",
      "70.64        Log Reg\n",
      "70.62    Naive Bayes\n",
      "60.17            SVM\n"
     ]
    }
   ],
   "source": [
    "for i,j in [(Xtrain_df, Ytrain_df), (Xtrain_df_RS, Ytrain_df_RS), (Xtrain_df_SS, Ytrain_df_SS), (Xtrain_df_RSb, Ytrain_df_RSb), (Xtrain_df_SSb, Ytrain_df_SSb)]:\n",
    "    print(\"\\n\\n\\nTraining starts\")\n",
    "    \n",
    "    random_forest = RandomForestClassifier(n_estimators=100, max_depth=10,random_state=42)\n",
    "    random_forest.fit(i,j);\n",
    "    acc_random_forest = round(random_forest.score(i,j)*100, 2)\n",
    "    print(\"---------------------Random Forest trained---------------------\")\n",
    "\n",
    "\n",
    "    logreg = LogisticRegression(random_state=42)\n",
    "    logreg.fit(i,j);\n",
    "    acc_log = round(logreg.score(i,j)*100,2)\n",
    "    print(\"---------------------Logistic Regression trained---------------------\")\n",
    "\n",
    "\n",
    "    knn = KNeighborsClassifier(n_neighbors=7,)\n",
    "    knn.fit(i,j);\n",
    "    acc_knn = round(knn.score(i,j)*100,2)\n",
    "    print(\"---------------------KNN trained---------------------\")\n",
    "\n",
    "    \n",
    "    gaussian = GaussianNB()\n",
    "    gaussian.fit(i,j);\n",
    "    acc_gaussian = round(gaussian.score(i,j)*100,2)\n",
    "    print(\"---------------------Naive Bayes trained---------------------\")\n",
    "    \n",
    "    \n",
    "    linear_svc = LinearSVC(C=500,random_state=42)\n",
    "    linear_svc.fit(i,j);\n",
    "    acc_linear_svc = round(linear_svc.score(i,j)*100,2)\n",
    "    print(\"---------------------Support Vector Classifier trained---------------------\")\n",
    "    \n",
    "\n",
    "    decision_tree = DecisionTreeClassifier(max_depth=10, random_state=42)\n",
    "    decision_tree.fit(i,j);\n",
    "    acc_decision_tree = round(decision_tree.score(i,j)*100,2)\n",
    "    print(\"---------------------Decision Tree trained---------------------\")\n",
    "\n",
    "    \n",
    "    results = pd.DataFrame(\n",
    "    {\n",
    "        'Model': ['SVM', 'KNN', \"Log Reg\", \"Random Forest\", \"Naive Bayes\",  \"Decision Tree\"],\n",
    "        'Score': [acc_linear_svc, acc_knn, acc_log, acc_random_forest, acc_gaussian, acc_decision_tree]\n",
    "    })\n",
    "\n",
    "    results_df = results.sort_values(by='Score',ascending=False)\n",
    "    results_df = results_df.set_index('Score')\n",
    "    print(results_df)"
   ]
  },
  {
   "cell_type": "code",
   "execution_count": 122,
   "metadata": {},
   "outputs": [
    {
     "data": {
      "text/plain": [
       "GridSearchCV(cv=None, error_score=nan,\n",
       "             estimator=RandomForestClassifier(bootstrap=True, ccp_alpha=0.0,\n",
       "                                              class_weight=None,\n",
       "                                              criterion='entropy', max_depth=10,\n",
       "                                              max_features='auto',\n",
       "                                              max_leaf_nodes=200,\n",
       "                                              max_samples=None,\n",
       "                                              min_impurity_decrease=0.0,\n",
       "                                              min_impurity_split=None,\n",
       "                                              min_samples_leaf=1,\n",
       "                                              min_samples_split=2,\n",
       "                                              min_weight_fraction_leaf=0.0,\n",
       "                                              n_estimators=200, n_jobs=-1,\n",
       "                                              oob_score=True, random_state=1,\n",
       "                                              verbose=0, warm_start=False),\n",
       "             iid='deprecated', n_jobs=-1,\n",
       "             param_grid={'criterion': ['gini', 'entropy'],\n",
       "                         'max_depth': [5, 15, 30],\n",
       "                         'max_features': ['auto', 8, 10],\n",
       "                         'max_leaf_nodes': [100, 300, 700],\n",
       "                         'min_samples_split': [50, 100, 200],\n",
       "                         'n_estimators': [50, 100, 200]},\n",
       "             pre_dispatch='2*n_jobs', refit=True, return_train_score=False,\n",
       "             scoring=None, verbose=0)"
      ]
     },
     "execution_count": 122,
     "metadata": {},
     "output_type": "execute_result"
    }
   ],
   "source": [
    "param_grid = {\n",
    "    'max_depth' : [5,15,30],\n",
    "    'criterion' : ['gini','entropy'],\n",
    "    'n_estimators' : [50,100,200],\n",
    "    'max_features': ['auto',8,10],\n",
    "    'max_leaf_nodes': [100,300,700],\n",
    "    'min_samples_split' : [50,100,200]\n",
    "}\n",
    "\n",
    "rf = RandomForestClassifier(n_estimators=200,max_depth = 10,criterion='entropy', max_features='auto',\n",
    "                            max_leaf_nodes = 200, random_state=1,n_jobs=-1,oob_score=True)\n",
    "clf = GridSearchCV(estimator = rf, param_grid = param_grid, n_jobs=-1)\n",
    "\n",
    "clf.fit(Xtrain_df_RS,Ytrain_df_RS)\n",
    "#clf.bestparams_"
   ]
  },
  {
   "cell_type": "code",
   "execution_count": 124,
   "metadata": {},
   "outputs": [
    {
     "data": {
      "text/plain": [
       "{'criterion': 'gini',\n",
       " 'max_depth': 15,\n",
       " 'max_features': 8,\n",
       " 'max_leaf_nodes': 700,\n",
       " 'min_samples_split': 50,\n",
       " 'n_estimators': 100}"
      ]
     },
     "execution_count": 124,
     "metadata": {},
     "output_type": "execute_result"
    }
   ],
   "source": [
    "clf.best_params_"
   ]
  },
  {
   "cell_type": "code",
   "execution_count": 139,
   "metadata": {},
   "outputs": [
    {
     "name": "stdout",
     "output_type": "stream",
     "text": [
      "Train Accuracy:  70.8\n",
      "Test Accuracy:  71.1096411443691\n"
     ]
    }
   ],
   "source": [
    "final_model = RandomForestClassifier(n_estimators=100,max_depth = 15,criterion='gini', max_features=8,\n",
    "                            max_leaf_nodes = 700, min_samples_split=50, random_state=42,n_jobs=-1,oob_score=True)\n",
    "final_model.fit(Xtrain_df_RS,Ytrain_df_RS)\n",
    "\n",
    "Y_pred = final_model.predict(Xtest_df_RS)\n",
    "print(\"Train Accuracy: \",round(final_model.score(Xtrain_df_RS,Ytrain_df_RS)*100,2))\n",
    "\n",
    "print(\"Test Accuracy: \",100*accuracy_score(Ytest_df_RS, Y_pred))\n",
    "\n"
   ]
  },
  {
   "cell_type": "code",
   "execution_count": 135,
   "metadata": {},
   "outputs": [
    {
     "data": {
      "text/plain": [
       "{'n_neighbors': 15, 'p': 5, 'weights': 'uniform'}"
      ]
     },
     "execution_count": 135,
     "metadata": {},
     "output_type": "execute_result"
    }
   ],
   "source": [
    "param_grid = {\n",
    "    'weights' : ['uniform','distance'],\n",
    "    'p' : [1,2,5],\n",
    "    'n_neighbors': [3,7,15]\n",
    "}\n",
    "\n",
    "knn = KNeighborsClassifier(n_neighbors=7)\n",
    "\n",
    "clf = GridSearchCV(estimator = knn, param_grid = param_grid, n_jobs=-1)\n",
    "\n",
    "clf.fit(Xtrain_df_RS,Ytrain_df_RS)\n",
    "\n",
    "\n",
    "clf.best_params_"
   ]
  },
  {
   "cell_type": "code",
   "execution_count": 138,
   "metadata": {},
   "outputs": [
    {
     "name": "stdout",
     "output_type": "stream",
     "text": [
      "Train Accuracy:  70.97\n",
      "Test Accuracy:  69.45592855961634\n"
     ]
    }
   ],
   "source": [
    "final_model = KNeighborsClassifier(n_neighbors=20,p=5,weights='uniform')\n",
    "final_model.fit(Xtrain_df_RS,Ytrain_df_RS)\n",
    "\n",
    "Y_pred = final_model.predict(Xtest_df_RS)\n",
    "print(\"Train Accuracy: \",round(final_model.score(Xtrain_df_RS,Ytrain_df_RS)*100,2))\n",
    "\n",
    "print(\"Test Accuracy: \",100*accuracy_score(Ytest_df_RS, Y_pred))"
   ]
  },
  {
   "cell_type": "code",
   "execution_count": 130,
   "metadata": {},
   "outputs": [
    {
     "name": "stdout",
     "output_type": "stream",
     "text": [
      "Classification Report :               precision    recall  f1-score   support\n",
      "\n",
      "           0       0.20      0.00      0.00      1741\n",
      "           1       0.71      1.00      0.83      4306\n",
      "\n",
      "    accuracy                           0.71      6047\n",
      "   macro avg       0.46      0.50      0.42      6047\n",
      "weighted avg       0.56      0.71      0.59      6047\n",
      "\n",
      "True Positive : 4298\n",
      "True Negative : 2\n",
      "False Positive : 1739\n",
      "False Negative : 8\n",
      "Specificity : 0.0011487650775416428\n",
      "Sensitivity : 0.9981421272642824\n"
     ]
    }
   ],
   "source": [
    "(tn, fp, fn, tp) = confusion_matrix(Ytest_df_RS, Y_pred).ravel()\n",
    "print(\"Classification Report :\",classification_report(Ytest_df_RS,Y_pred))\n",
    "print(\"True Positive :\",tp)\n",
    "print(\"True Negative :\",tn)\n",
    "print(\"False Positive :\",fp)\n",
    "print(\"False Negative :\",fn)\n",
    "\n",
    "print(\"Specificity :\", tn/(tn+fp))\n",
    "print(\"Sensitivity :\", tp/(tp+fn))"
   ]
  },
  {
   "cell_type": "code",
   "execution_count": 131,
   "metadata": {},
   "outputs": [
    {
     "data": {
      "image/png": "[encoded data removed]",
      "text/plain": [
       "<Figure size 1008x504 with 1 Axes>"
      ]
     },
     "metadata": {
      "needs_background": "light"
     },
     "output_type": "display_data"
    }
   ],
   "source": [
    "prec, rec, thres = precision_recall_curve(Ytest_df_RS, Y_pred)\n",
    "\n",
    "def plot_precision_recall(prec, recall, thres):\n",
    "    plt.plot(thres, prec[:-1],\"r-\",label=\"precision\",linewidth=5)\n",
    "    plt.plot(thres, rec[:-1],\"b\",label=\"recall\",linewidth=5)\n",
    "    plt.xlabel(\"Threshold\", fontsize=19)\n",
    "    plt.legend(loc=9,fontsize=19)\n",
    "    plt.ylim([0,1])\n",
    "plt.figure(figsize=(14,7))\n",
    "plot_precision_recall(prec, rec, thres)\n",
    "\n",
    "plt.show()"
   ]
  },
  {
   "cell_type": "code",
   "execution_count": 140,
   "metadata": {},
   "outputs": [
    {
     "data": {
      "image/png": "[encoded data removed]",
      "text/plain": [
       "<Figure size 432x288 with 1 Axes>"
      ]
     },
     "metadata": {
      "needs_background": "light"
     },
     "output_type": "display_data"
    }
   ],
   "source": [
    "def plot_precision_vs_recall(prec, rec):\n",
    "    plt.plot(rec, prec, \"g--\", linewidth=2.5)\n",
    "    plt.ylabel(\"recall\")\n",
    "    plt.xlabel(\"precision\")\n",
    "    plt.axis([0,1.5,0,1.5])\n",
    "plt.figure()\n",
    "plot_precision_vs_recall(prec,rec)\n",
    "plt.show()"
   ]
  },
  {
   "cell_type": "code",
   "execution_count": 142,
   "metadata": {},
   "outputs": [
    {
     "data": {
      "image/png": "[encoded data removed]",
      "text/plain": [
       "<Figure size 432x288 with 1 Axes>"
      ]
     },
     "metadata": {
      "needs_background": "light"
     },
     "output_type": "display_data"
    }
   ],
   "source": [
    "fpr, tpr, thresh = roc_curve(Ytest_df_RS, Y_pred)\n",
    "def plot_roc_curve(fpr,tpr,label=None):\n",
    "    plt.plot(fpr,tpr,linewidth=2, label=label)\n",
    "    plt.plot([0,1],[0,1],'r',linewidth=4)\n",
    "    plt.axis([0,1,0,1])\n",
    "    plt.xlabel('False Positive Rate')\n",
    "    plt.ylabel('True Positive Rate')\n",
    "    \n",
    "plt.figure()\n",
    "plot_roc_curve(fpr, tpr)\n",
    "plt.show()"
   ]
  },
  {
   "cell_type": "code",
   "execution_count": null,
   "metadata": {},
   "outputs": [],
   "source": []
  }
 ],
 "metadata": {
  "kernelspec": {
   "display_name": "Python 3",
   "language": "python",
   "name": "python3"
  },
  "language_info": {
   "codemirror_mode": {
    "name": "ipython",
    "version": 3
   },
   "file_extension": ".py",
   "mimetype": "text/x-python",
   "name": "python",
   "nbconvert_exporter": "python",
   "pygments_lexer": "ipython3",
   "version": "3.8.8"
  }
 },
 "nbformat": 4,
 "nbformat_minor": 2
}
